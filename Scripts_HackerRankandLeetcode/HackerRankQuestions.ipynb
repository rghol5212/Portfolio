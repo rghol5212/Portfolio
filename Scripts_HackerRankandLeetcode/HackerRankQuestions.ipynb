{
 "cells": [
  {
   "cell_type": "markdown",
   "metadata": {},
   "source": [
    "Hacker Rank Questions"
   ]
  },
  {
   "cell_type": "markdown",
   "metadata": {},
   "source": [
    "\n",
    "# The included code stub will read an integer, , from STDIN.\n",
    "# Without using any string methods, try to print the following:\n",
    "# Note that \"\" represents the consecutive values in between.\n",
    "# Example n=5\n",
    "# Print the string 12345."
   ]
  },
  {
   "cell_type": "code",
   "execution_count": 8,
   "metadata": {},
   "outputs": [
    {
     "name": "stdout",
     "output_type": "stream",
     "text": [
      "1234567891011121314151617181920\n"
     ]
    }
   ],
   "source": [
    "def finish_num_list(n = int(input('Enter a Number to build a list up to.'))):\n",
    "    start = '123'\n",
    "    sentance = ''\n",
    "\n",
    "    for x in range(4, n+1):\n",
    "        sentance +=str(x) \n",
    "    print(start+sentance)\n",
    "\n",
    "finish_num_list()"
   ]
  },
  {
   "cell_type": "markdown",
   "metadata": {},
   "source": [
    "# Python has built-in string validation methods for basic data. It can check if a string is composed of alphabetical characters, alphanumeric characters, digits, etc.\n",
    "\n",
    "str.isalnum()\n",
    "# This method checks if all the characters of a string are alphanumeric (a-z, A-Z and 0-9).\n",
    ">>> print 'ab123'.isalnum()\n",
    "True\n",
    ">>> print 'ab123#'.isalnum()\n",
    "False\n",
    "\n",
    "\n",
    "str.isalpha()\n",
    "# This method checks if all the characters of a string are alphabetical (a-z and A-Z).\n",
    ">>> print 'abcD'.isalpha()\n",
    "True\n",
    ">>> print 'abcd1'.isalpha()\n",
    "False\n",
    "\n",
    "str.isdigit()\n",
    "# This method checks if all the characters of a string are digits (0-9).\n",
    ">>> print '1234'.isdigit()\n",
    "True\n",
    ">>> print '123edsd'.isdigit()\n",
    "False\n",
    "\n",
    "\n",
    "str.islower()\n",
    "# This method checks if all the characters of a string are lowercase characters (a-z).\n",
    ">>> print 'abcd123#'.islower()\n",
    "True\n",
    ">>> print 'Abcd123#'.islower()\n",
    "False\n",
    "\n",
    "\n",
    "str.isupper()\n",
    "# This method checks if all the characters of a string are uppercase characters (A-Z).\n",
    ">>> print 'ABCD123#'.isupper()\n",
    "True\n",
    ">>> print 'Abcd123#'.isupper()\n",
    "False\n",
    "\n",
    "\n",
    "# Task\n",
    "# You are given a string .\n",
    "# Your task is to find out if the string  contains: alphanumeric characters, alphabetical characters, digits, lowercase and uppercase characters.\n",
    "\n",
    "# Input Format\n",
    "A single line containing a string  S.\n",
    "\n",
    "# Constraints\n",
    "0<len(S)<1000\n",
    "\n",
    "# Output Format\n",
    "In the first line, print True if  has any alphanumeric characters. Otherwise, print False.\n",
    "In the second line, print True if  has any alphabetical characters. Otherwise, print False.\n",
    "In the third line, print True if  has any digits. Otherwise, print False.\n",
    "In the fourth line, print True if  has any lowercase characters. Otherwise, print False.\n",
    "In the fifth line, print True if  has any uppercase characters. Otherwise, print False.\n",
    "\n",
    "# Sample Input\n",
    "qA2\n",
    "\n",
    "# Sample Output\n",
    "True\n",
    "True\n",
    "True\n",
    "True\n",
    "True"
   ]
  },
  {
   "cell_type": "code",
   "execution_count": 9,
   "metadata": {},
   "outputs": [
    {
     "name": "stdout",
     "output_type": "stream",
     "text": [
      "True\n",
      "True\n",
      "False\n",
      "True\n",
      "False\n"
     ]
    }
   ],
   "source": [
    "s=input()\n",
    "\n",
    "check_alnum = False\n",
    "for char in s:\n",
    "    if char.isalnum():\n",
    "        check_alnum = True\n",
    "print(check_alnum)\n",
    "\n",
    "\n",
    "check_isalpha = False\n",
    "for char in s:\n",
    "    if char.isalpha():\n",
    "        check_isalpha = True\n",
    "print(check_isalpha)\n",
    "\n",
    "\n",
    "check_isdigit = False\n",
    "for char in s:\n",
    "    if char.isdigit():\n",
    "        check_isdigit = True\n",
    "print(check_isdigit)\n",
    "\n",
    "\n",
    "check_islower = False\n",
    "for char in s:\n",
    "    if char.islower():\n",
    "        check_islower = True\n",
    "print(check_islower)\n",
    "\n",
    "\n",
    "check_isupper = False\n",
    "for char in s:\n",
    "    if char.isupper():\n",
    "        check_isupper = True\n",
    "print(check_isupper)\n"
   ]
  },
  {
   "cell_type": "code",
   "execution_count": 1,
   "metadata": {},
   "outputs": [
    {
     "name": "stdout",
     "output_type": "stream",
     "text": [
      "[0, 1, 2, 3, 4]\n"
     ]
    }
   ],
   "source": [
    "class calc():\n",
    "    cb_val1 = 3.14\n",
    "\n",
    "    def __init__(self,val1, val2):\n",
    "        self.val1 = val1\n",
    "        self.val2 = val2\n",
    "\n",
    "    def __str__(self):\n",
    "        return f\"Values are ({self.val1}) and ({self.val2}).\"\n",
    "\n",
    "    def add(self):\n",
    "        return self.val1 + self.val2\n",
    "\n",
    "    def subtract(self):\n",
    "        return self.val1 - self.val2\n",
    "\n",
    "    def multiply(self):\n",
    "        return self.val1 * self.val2\n",
    "\n",
    "    def divide(self):\n",
    "        return self.val1 / self.val2\n",
    "\n",
    "    def floor(self):\n",
    "        return self.val1//self.val2\n",
    "    \n",
    "\n",
    "val1=calc(5,3)\n",
    "\n",
    "print(val1.__str__())\n",
    "\n",
    "\n",
    "    "
   ]
  },
  {
   "cell_type": "code",
   "execution_count": 7,
   "metadata": {},
   "outputs": [
    {
     "name": "stdout",
     "output_type": "stream",
     "text": [
      "27.5\n"
     ]
    }
   ],
   "source": [
    "hours = int(input(\"Please enter number of hours!\"))\n",
    "rate = 2.75\n",
    "print(hours * rate)"
   ]
  },
  {
   "cell_type": "markdown",
   "metadata": {},
   "source": [
    "Comparison Sorting\n",
    "Quicksort usually has a running time of , but is there an algorithm that can sort even faster? In general, this is not possible. Most sorting algorithms are comparison sorts, i.e. they sort a list just by comparing the elements to one another. A comparison sort algorithm cannot beat  (worst-case) running time, since  represents the minimum number of comparisons needed to know where to place each element. For more details, you can see these notes (PDF).\n",
    "\n",
    "Alternative Sorting\n",
    "Another sorting method, the counting sort, does not require comparison. Instead, you create an integer array whose index range covers the entire range of values in your array to sort. Each time a value occurs in the original array, you increment the counter at that index. At the end, run through your counting array, printing the value of each non-zero valued index that number of times.\n",
    "\n",
    "Example\n",
    "\n",
    "All of the values are in the range , so create an array of zeros, . The results of each iteration follow:\n",
    "\n",
    "i\tarr[i]\tresult\n",
    "0\t1\t[0, 1, 0, 0]\n",
    "1\t1\t[0, 2, 0, 0]\n",
    "2\t3\t[0, 2, 0, 1]\n",
    "3\t2\t[0, 2, 1, 1]\n",
    "4\t1\t[0, 3, 1, 1]\n",
    "The frequency array is . These values can be used to create the sorted array as well: .\n",
    "\n",
    "Note\n",
    "For this exercise, always return a frequency array with 100 elements. The example above shows only the first 4 elements, the remainder being zeros.\n",
    "\n",
    "Challenge\n",
    "Given a list of integers, count and return the number of times each value appears as an array of integers.\n",
    "\n",
    "Function Description\n",
    "\n",
    "Complete the countingSort function in the editor below.\n",
    "\n",
    "countingSort has the following parameter(s):\n",
    "\n",
    "arr[n]: an array of integers\n",
    "Returns\n",
    "\n",
    "int[100]: a frequency array"
   ]
  },
  {
   "cell_type": "code",
   "execution_count": 5,
   "metadata": {},
   "outputs": [
    {
     "name": "stdout",
     "output_type": "stream",
     "text": [
      "[1, 2, 0, 2, 1, 2, 0, 0, 0, 0, 0, 0, 0, 0, 0, 0, 0, 0, 0, 0, 0, 0, 0, 0, 0, 0, 0, 0, 0, 0, 0, 0, 0, 0, 0, 0, 0, 0, 0, 0, 0, 0, 0, 0, 0, 1, 0, 0, 0, 0, 0, 0, 0, 0, 0, 0, 0, 0, 0, 0, 0, 0, 0, 0, 0, 0, 0, 0, 0, 0, 0, 0, 0, 0, 0, 0, 0, 0, 1, 0, 0, 0, 0, 0, 0, 0, 0, 1, 0, 1, 0, 0, 0, 0, 0, 0, 0, 0, 0, 1, 1]\n"
     ]
    }
   ],
   "source": [
    "def countingSort(arr):\n",
    "    count_list = []\n",
    "    length_list = 100\n",
    "    while length_list > 0:\n",
    "        count_list.append(0)\n",
    "        length_list -= 1\n",
    "    \n",
    "    for x in arr:\n",
    "        count_list[x] +=1\n",
    "\n",
    "    print(count_list)\n",
    "\n",
    "countingSort([1,5,3,78,3,4,87,5,1,45,89, 99, 100, 0])"
   ]
  },
  {
   "cell_type": "markdown",
   "metadata": {},
   "source": [
    "A pangram is a string that contains every letter of the alphabet. Given a sentence determine whether it is a pangram in the English alphabet. Ignore case. Return either pangram or not pangram as appropriate.\n",
    "\n",
    "Example\n",
    "\n",
    "The string contains all letters in the English alphabet, so return pangram.\n",
    "\n",
    "Function Description\n",
    "\n",
    "Complete the function pangrams in the editor below. It should return the string pangram if the input string is a pangram. Otherwise, it should return not pangram.\n",
    "\n",
    "pangrams has the following parameter(s):\n",
    "\n",
    "string s: a string to test\n",
    "Returns\n",
    "\n",
    "string: either pangram or not pangram\n",
    "Input Format\n",
    "\n",
    "A single line with string .\n",
    "\n",
    "Constraints\n",
    "\n",
    "\n",
    "Each character of , \n",
    "\n",
    "Sample Input\n",
    "\n",
    "Sample Input 0\n",
    "\n",
    "We promptly judged antique ivory buckles for the next prize\n",
    "\n",
    "Sample Output 0\n",
    "\n",
    "pangram"
   ]
  },
  {
   "cell_type": "code",
   "execution_count": 14,
   "metadata": {},
   "outputs": [
    {
     "name": "stdout",
     "output_type": "stream",
     "text": [
      "not pangram\n"
     ]
    }
   ],
   "source": [
    "def pangrams(s):\n",
    "    checked_letters = []\n",
    "    string_lower = s.lower()\n",
    "    for letter in string_lower:\n",
    "        if letter not in checked_letters:\n",
    "            checked_letters.append(letter)\n",
    "\n",
    "    #Remove the empty space brough tback from spaces in the sentance.\n",
    "    if ' ' in checked_letters:\n",
    "        del_space_chcked = checked_letters.remove(' ')\n",
    " \n",
    "    if len(checked_letters)==26:\n",
    "        return 'pangram'\n",
    "    else:\n",
    "        return 'not pangram'\n",
    "\n",
    "test = 'a'\n",
    "    \n",
    "print(pangrams(test))\n",
    "\n"
   ]
  },
  {
   "cell_type": "markdown",
   "metadata": {},
   "source": [
    "There are two -element arrays of integers,  and . Permute them into some  and  such that the relation  holds for all  where .\n",
    "\n",
    "There will be  queries consisting of , , and . For each query, return YES if some permutation ,  satisfying the relation exists. Otherwise, return NO.\n",
    "\n",
    "Example\n",
    "\n",
    "\n",
    "\n",
    "A valid  is  and :  and . Return YES.\n",
    "\n",
    "Function Description\n",
    "\n",
    "Complete the twoArrays function in the editor below. It should return a string, either YES or NO.\n",
    "\n",
    "twoArrays has the following parameter(s):\n",
    "\n",
    "int k: an integer\n",
    "int A[n]: an array of integers\n",
    "int B[n]: an array of integers\n",
    "Returns\n",
    "- string: either YES or NO\n",
    "\n",
    "Input Format\n",
    "\n",
    "The first line contains an integer , the number of queries.\n",
    "\n",
    "The next  sets of  lines are as follows:\n",
    "\n",
    "The first line contains two space-separated integers  and , the size of both arrays  and , and the relation variable.\n",
    "The second line contains  space-separated integers .\n",
    "The third line contains  space-separated integers ."
   ]
  },
  {
   "cell_type": "code",
   "execution_count": 23,
   "metadata": {},
   "outputs": [
    {
     "name": "stdout",
     "output_type": "stream",
     "text": [
      "[1, 2, 3] [9, 8, 7]\n",
      "True\n",
      "2 7 10\n",
      "False\n",
      "1 8 10\n",
      "False\n",
      "3 9 10\n"
     ]
    },
    {
     "data": {
      "text/plain": [
       "'NO'"
      ]
     },
     "execution_count": 23,
     "metadata": {},
     "output_type": "execute_result"
    }
   ],
   "source": [
    "def twoArrays(k, A, B):\n",
    "    tru_fal = True\n",
    "    sorted_a = sorted(A)\n",
    "    sorted_b = sorted(B, reverse = True)\n",
    "\n",
    "    for x in range(0, len(A)):\n",
    "        if (sorted_a[x]+sorted_b[x])>=k:\n",
    "            continue\n",
    "        else:\n",
    "            tru_fal = False\n",
    "    if tru_fal == True:\n",
    "        return 'YES'\n",
    "    else:\n",
    "        return 'NO'\n",
    "\n",
    "k= 10\n",
    "a= [2,1,3]\n",
    "b= [7,8,9]\n",
    "\n",
    "twoArrays(k,a,b)"
   ]
  },
  {
   "cell_type": "code",
   "execution_count": 35,
   "metadata": {},
   "outputs": [
    {
     "data": {
      "text/plain": [
       "{'newattr2': 'a new value2', 'newattr': 'a new value'}"
      ]
     },
     "execution_count": 35,
     "metadata": {},
     "output_type": "execute_result"
    }
   ],
   "source": [
    "class test:\n",
    "    val1 = 'python'\n",
    "    def sample(self):\n",
    "        pass\n",
    "\n",
    "p = test()\n",
    "\n",
    "\n",
    "setattr(p, 'newattr2', 'a new value2')\n",
    "p.newattr = 'a new value'\n",
    "test.__dict__\n",
    "p.__dict__\n"
   ]
  },
  {
   "cell_type": "markdown",
   "metadata": {},
   "source": [
    "It is New Year's Day and people are in line for the Wonderland rollercoaster ride. Each person wears a sticker indicating their initial position in the queue from  to . Any person can bribe the person directly in front of them to swap positions, but they still wear their original sticker. One person can bribe at most two others.\n",
    "\n",
    "Determine the minimum number of bribes that took place to get to a given queue order. Print the number of bribes, or, if anyone has bribed more than two people, print Too chaotic.\n",
    "\n",
    "Example\n",
    "\n",
    "\n",
    "If person  bribes person , the queue will look like this: . Only  bribe is required. Print 1.\n",
    "\n",
    "\n",
    "Person  had to bribe  people to get to the current position. Print Too chaotic.\n",
    "\n",
    "Function Description\n",
    "\n",
    "Complete the function minimumBribes in the editor below.\n",
    "\n",
    "minimumBribes has the following parameter(s):\n",
    "\n",
    "int q[n]: the positions of the people after all bribes\n",
    "Returns\n",
    "\n",
    "No value is returned. Print the minimum number of bribes necessary or Too chaotic if someone has bribed more than  people.\n",
    "Input Format\n",
    "\n",
    "The first line contains an integer , the number of test cases.\n",
    "\n",
    "Each of the next  pairs of lines are as follows:\n",
    "- The first line contains an integer , the number of people in the queue\n",
    "- The second line has  space-separated integers describing the final state of the queue.\n",
    "\n",
    "Constraints\n",
    "\n",
    "Subtasks\n",
    "\n",
    "For  score \n",
    "For  score \n",
    "\n",
    "Sample Input\n",
    "\n",
    "STDIN       Function\n",
    "-----       --------\n",
    "2           t = 2\n",
    "5           n = 5\n",
    "2 1 5 3 4   q = [2, 1, 5, 3, 4]\n",
    "5           n = 5\n",
    "2 5 1 3 4   q = [2, 5, 1, 3, 4]\n",
    "Sample Output\n",
    "\n",
    "3\n",
    "Too chaotic"
   ]
  },
  {
   "cell_type": "code",
   "execution_count": 75,
   "metadata": {},
   "outputs": [
    {
     "name": "stdout",
     "output_type": "stream",
     "text": [
      "3\n"
     ]
    }
   ],
   "source": [
    "def minimumBribes(q):\n",
    "    totalBribes = 0\n",
    "    chaotic = 0\n",
    "    # Check 3 elements at a time in the iterable. Kind of like linked list, create variables and set a value.. \n",
    "    # This value will increment as the for loop progressess\n",
    "    elem_1 = 1\n",
    "    elem_2 = 2\n",
    "    elem_3 = 3\n",
    "\n",
    "    #iterate through the array using len of array to set the range. We will use the arr the range produces to check the\n",
    "    #  indexs.\n",
    "    for num in range(len(q)):\n",
    "        # checks if the value of the element equals its index. This is checking against elem_1..\n",
    "        # which starts at 1. but will increase by one \"sliding\" up the array.\n",
    "        # example of this being true would be if the arr elements where [1,3,2].. \n",
    "        # the 1 would satisfy this if statment and shift the \"window\" of 3 elements down by one.\n",
    "\n",
    "        #if element is where it shoudl be.. do nothing.. slide up one.\n",
    "        if q[num] == elem_1:\n",
    "            elem_1=elem_2\n",
    "            elem_2=elem_3\n",
    "            elem_3 +=1\n",
    "\n",
    "        # this is following same logic as first if, but if this statment is statisfied then it means the elemnt moved by 1...\n",
    "        # example [2,1,3]...here the [1] element or second number in the range would equal 1, so the 1 moved by 1... so we start off by incrementing totalbribes by 1..\n",
    "\n",
    "        # if element equals elem_2 or \"second position\" then it has moved by 1, and moved FROM the 2nd position. \n",
    "        elif q[num] == elem_2:\n",
    "            totalBribes += 1\n",
    "\n",
    "            elem_2=elem_3\n",
    "            elem_3 += 1\n",
    "\n",
    "        # same idea as checking the 2nd element, here we see if the first element in the \"window\" equals the farthest it would be allowed.. \n",
    "        # so if first time through, and 1 can only be as far as index [2].. if its further then its \"too chaotic\"/moved more then 2 spaces\n",
    "        elif q[num] == elem_3:\n",
    "            totalBribes += 2\n",
    "            elem_3 += 1\n",
    "\n",
    "        else:\n",
    "            print(\"Too chaotic\")\n",
    "            chaotic += 1\n",
    "            break\n",
    "    if chaotic < 1:\n",
    "        print(totalBribes)\n",
    "\n",
    "\n",
    "minimumBribes([2, 1, 5, 3, 4])"
   ]
  },
  {
   "cell_type": "markdown",
   "metadata": {},
   "source": [
    "Harold is a kidnapper who wrote a ransom note, but now he is worried it will be traced back to him through his handwriting. He found a magazine and wants to know if he can cut out whole words from it and use them to create an untraceable replica of his ransom note. The words in his note are case-sensitive and he must use only whole words available in the magazine. He cannot use substrings or concatenation to create the words he needs.\n",
    "\n",
    "Given the words in the magazine and the words in the ransom note, print Yes if he can replicate his ransom note exactly using whole words from the magazine; otherwise, print No.\n",
    "\n",
    "Example\n",
    " = \"attack at dawn\"  = \"Attack at dawn\"\n",
    "\n",
    "The magazine has all the right words, but there is a case mismatch. The answer is .\n",
    "\n",
    "Function Description\n",
    "\n",
    "Complete the checkMagazine function in the editor below. It must print  if the note can be formed using the magazine, or .\n",
    "\n",
    "checkMagazine has the following parameters:\n",
    "\n",
    "string magazine[m]: the words in the magazine\n",
    "string note[n]: the words in the ransom note\n",
    "Prints\n",
    "\n",
    "string: either  or , no return value is expected\n",
    "Input Format\n",
    "\n",
    "The first line contains two space-separated integers,  and , the numbers of words in the  and the , respectively.\n",
    "The second line contains  space-separated strings, each .\n",
    "The third line contains  space-separated strings, each .\n",
    "\n",
    "Constraints\n",
    "\n",
    ".\n",
    "Each word consists of English alphabetic letters (i.e.,  to  and  to ).\n",
    "Sample Input 0\n",
    "\n",
    "6 4\n",
    "give me one grand today night\n",
    "give one grand today\n",
    "Sample Output 0\n",
    "\n",
    "Yes\n",
    "Sample Input 1\n",
    "\n",
    "6 5\n",
    "two times three is not four\n",
    "two times two is four\n",
    "Sample Output 1\n",
    "\n",
    "No\n",
    "Explanation 1\n",
    "\n",
    "'two' only occurs once in the magazine.\n",
    "\n",
    "Sample Input 2\n",
    "\n",
    "7 4\n",
    "ive got a lovely bunch of coconuts\n",
    "ive got some coconuts\n",
    "Sample Output 2\n",
    "\n",
    "No"
   ]
  },
  {
   "cell_type": "code",
   "execution_count": 78,
   "metadata": {},
   "outputs": [
    {
     "name": "stdout",
     "output_type": "stream",
     "text": [
      "Yes\n"
     ]
    }
   ],
   "source": [
    "from collections import Counter\n",
    "\n",
    "def checkMagazine(magazine, note):\n",
    "    cnt1 = Counter(magazine)\n",
    "    cnt2 = Counter(note)\n",
    "    if cnt2-cnt1 == {}:\n",
    "        print('Yes')\n",
    "    else:\n",
    "        print('No')\n",
    "        \n",
    "\n",
    "magazine = ['give', 'me', 'one', 'grand', 'today', 'night']\n",
    "note = ['give', 'one', 'grand', 'today',]\n",
    "checkMagazine(magazine, note)"
   ]
  },
  {
   "cell_type": "markdown",
   "metadata": {},
   "source": [
    "Flatland is a country with a number of cities, some of which have space stations. Cities are numbered consecutively and each has a road of  length connecting it to the next city. It is not a circular route, so the first city doesn't connect with the last city. Determine the maximum distance from any city to its nearest space station.\n",
    "\n",
    "Example\n",
    "\n",
    "\n",
    "There are  cities and city  has a space station. They occur consecutively along a route. City  is  unit away and city  is  units away. City  is  units from its nearest space station as one is located there. The maximum distance is .\n",
    "\n",
    "Function Description\n",
    "\n",
    "Complete the flatlandSpaceStations function in the editor below.\n",
    "\n",
    "flatlandSpaceStations has the following parameter(s):\n",
    "\n",
    "int n: the number of cities\n",
    "int c[m]: the indices of cities with a space station\n",
    "Returns\n",
    "- int: the maximum distance any city is from a space station\n",
    "\n",
    "Input Format\n",
    "\n",
    "The first line consists of two space-separated integers,  and .\n",
    "The second line contains  space-separated integers, the indices of each city that has a space-station. These values are unordered and distinct.\n",
    "\n",
    "Constraints\n",
    "\n",
    "There will be at least  city with a space station.\n",
    "No city has more than one space station.\n",
    "Output Format\n",
    "\n",
    "Sample Input 0\n",
    "\n",
    "STDIN   Function\n",
    "-----   --------\n",
    "5 2     n = 5, c[] size m = 2\n",
    "0 4     c = [0, 4]\n",
    "Sample Output 0\n",
    "\n",
    "2\n",
    "Explanation 0\n",
    "\n",
    "This sample corresponds to following graphic:\n",
    "\n",
    "hreasy(5).png\n",
    "\n",
    "The distance to the nearest space station for each city is listed below:\n",
    "\n",
    " has distance , as it contains a space station.\n",
    " has distance  to the space station in .\n",
    " has distance  to the space stations in  and .\n",
    " has distance  to the space station in .\n",
    " has distance , as it contains a space station.\n",
    "We then take .\n",
    "\n",
    "Sample Input 1\n",
    "\n",
    "6 6\n",
    "0 1 2 4 3 5\n",
    "Sample Output 1\n",
    "\n",
    "0\n",
    "Explanation 1\n",
    "\n",
    "In this sample,  so every city has space station and we print  as our answer."
   ]
  },
  {
   "cell_type": "code",
   "execution_count": 103,
   "metadata": {},
   "outputs": [
    {
     "data": {
      "text/plain": [
       "2"
      ]
     },
     "execution_count": 103,
     "metadata": {},
     "output_type": "execute_result"
    }
   ],
   "source": [
    "# n int how many cites\n",
    "# c array where the spacestaitions are at\n",
    "\n",
    "def flatlandSpaceStations(n, c):\n",
    "    distance = []\n",
    "    citys = {num for num in range(n)}\n",
    "    sp_set = set(c)\n",
    "    citys_no_space_port = citys-sp_set\n",
    "\n",
    "    if citys_no_space_port:\n",
    "        for city in citys_no_space_port:\n",
    "            temp_distance = n\n",
    "            for sp in c:\n",
    "                anw = abs(sp-city)\n",
    "                if anw < temp_distance:\n",
    "                    temp_distance = anw\n",
    "            distance.append(temp_distance)        \n",
    "    else:\n",
    "        return 0\n",
    "    \n",
    "    return max(distance)\n",
    "\n",
    "\n",
    "\n",
    "flatlandSpaceStations(6, [0,4])"
   ]
  },
  {
   "cell_type": "code",
   "execution_count": 112,
   "metadata": {},
   "outputs": [
    {
     "name": "stdout",
     "output_type": "stream",
     "text": [
      "[-10, 0, 10]\n",
      "0\n"
     ]
    }
   ],
   "source": [
    "    arr = [-10,0,10]\n",
    "    set_rmv_dup = set(arr)\n",
    "    list_map = list(set_rmv_dup)\n",
    "    list_map.sort()\n",
    "    print(list_map)\n",
    "    length = len(list_map)\n",
    "    print(list_map[length-2])\n"
   ]
  },
  {
   "cell_type": "code",
   "execution_count": 3,
   "metadata": {},
   "outputs": [
    {
     "name": "stdout",
     "output_type": "stream",
     "text": [
      "10 14\n"
     ]
    }
   ],
   "source": [
    "def miniMaxSum(arr):\n",
    "    total_sum = sum(arr)\n",
    "    max_num = 0\n",
    "    min_num = 0\n",
    "    for num in arr:\n",
    "        temp_val = total_sum - num\n",
    "        if min_num == 0:\n",
    "            min_num = temp_val\n",
    "            if max_num == 0:\n",
    "                max_num = temp_val\n",
    "        elif temp_val < min_num:\n",
    "            min_num = temp_val\n",
    "        elif temp_val > max_num:\n",
    "            max_num = temp_val\n",
    "        else:\n",
    "            continue\n",
    "    print(min_num, max_num)\n",
    "\n",
    "\n",
    "arr_test1 = [1,2,3,4,5]\n",
    "\n",
    "miniMaxSum(arr_test1)"
   ]
  },
  {
   "cell_type": "code",
   "execution_count": 100,
   "metadata": {},
   "outputs": [
    {
     "name": "stdout",
     "output_type": "stream",
     "text": [
      "[('Ryan', 1, 9)]\n",
      "{('Ryan', 1, 9): {0, 1, 2, 3, 4}}\n",
      "There are : 4 duplicates in the array\n"
     ]
    }
   ],
   "source": [
    "def compareArr(name,price,weight):\n",
    "    rev_dict = {}\n",
    "\n",
    "    for num in range(len(name)):\n",
    "        dict1 = {}\n",
    "        dict1[num] = name[num], price[num], weight[num]\n",
    "        key = num\n",
    "        value = dict1[num]\n",
    "        rev_dict.setdefault(value, set()).add(key)\n",
    "\n",
    "    result = [key for key, values in rev_dict.items() if len(values) > 1]\n",
    "    print(result)\n",
    "    print(rev_dict)\n",
    "    if result:\n",
    "        print(f'There are : {len(rev_dict[result[0]])-1} duplicates in the array')\n",
    "\n",
    "\n",
    "\n",
    "n = [\"Ryan\", \"Ryan\", \"Ryan\", \"Ryan\", \"Ryan\"]\n",
    "p = [1,1,1,1,1]\n",
    "w = [9,9,9,9,9]\n",
    "\n",
    "compareArr(n,p,w)"
   ]
  },
  {
   "cell_type": "code",
   "execution_count": null,
   "metadata": {},
   "outputs": [],
   "source": [
    "reverse a string."
   ]
  },
  {
   "cell_type": "code",
   "execution_count": 93,
   "metadata": {},
   "outputs": [
    {
     "name": "stdout",
     "output_type": "stream",
     "text": [
      "!tset a si siht olleH\n"
     ]
    }
   ],
   "source": [
    "def revString(string_text):\n",
    "    rev_list = []\n",
    "    for letter in string_text[::-1]:\n",
    "        rev_list.append(letter)\n",
    "\n",
    "    return \"\".join(rev_list)\n",
    "\n",
    "\n",
    "print(revString(\"Hello this is a test!\"))\n"
   ]
  },
  {
   "cell_type": "markdown",
   "metadata": {},
   "source": [
    "merge sorted arrays"
   ]
  },
  {
   "cell_type": "code",
   "execution_count": 40,
   "metadata": {},
   "outputs": [
    {
     "name": "stdout",
     "output_type": "stream",
     "text": [
      "[1, 4, 4, 6, 7, 9, 12, 15, 18, 22, 30, 31]\n"
     ]
    }
   ],
   "source": [
    "def mergeSortArr(arr1, arr2):\n",
    "    mergedArray = []\n",
    "    array1Item = arr1[0] #this is what we will be comparing as it moves down the array1\n",
    "    array2Item = arr2[0] #this will be comparing for array2\n",
    "    i = 1 #used as index counters to move the selected element along the array as the while loop loops. \n",
    "    j = 1 #same as i. \n",
    "\n",
    "    #Check if either array is empty. if so then just return the other array. done. \n",
    "    if len(arr1) == 0:\n",
    "        return arr2\n",
    "    elif len(arr2) == 0:\n",
    "        return arr1\n",
    "\n",
    "\n",
    "#Main check logic.\n",
    "    while array1Item or array2Item: #while there is an emelement to check in either array, loop\n",
    "\n",
    "        # this checks if array2item is empty/ran out of elements... or there are still two elements to \n",
    "        # check so both arrays still have elements left and return true if the array1 element is smaller. \n",
    "        if (not array2Item) or array1Item < array2Item:      \n",
    "            mergedArray.append(array1Item)\n",
    "            try:\n",
    "                array1Item = arr1[i]\n",
    "                i += 1\n",
    "            except IndexError:\n",
    "                break\n",
    "        else:\n",
    "            mergedArray.append(array2Item)\n",
    "            array2Item = arr2[j]\n",
    "            j += 1\n",
    "    print(mergedArray)\n",
    "\n",
    "mergeSortArr([1,4,7,9,12,15,18,22,31], [4,6,30,40,42])"
   ]
  },
  {
   "cell_type": "markdown",
   "metadata": {},
   "source": [
    "leetcode:189. Rotate Array\n",
    "Given an array, rotate the array to the right by k steps, where k is non-negative.\n",
    "\n",
    " \n",
    "\n",
    "Example 1:\n",
    "\n",
    "Input: nums = [1,2,3,4,5,6,7], k = 3\n",
    "Output: [5,6,7,1,2,3,4]\n",
    "Explanation:\n",
    "rotate 1 steps to the right: [7,1,2,3,4,5,6]\n",
    "rotate 2 steps to the right: [6,7,1,2,3,4,5]\n",
    "rotate 3 steps to the right: [5,6,7,1,2,3,4]\n",
    "Example 2:\n",
    "\n",
    "Input: nums = [-1,-100,3,99], k = 2\n",
    "Output: [3,99,-1,-100]\n",
    "Explanation: \n",
    "rotate 1 steps to the right: [99,-1,-100,3]\n",
    "rotate 2 steps to the right: [3,99,-1,-100]"
   ]
  },
  {
   "cell_type": "code",
   "execution_count": 53,
   "metadata": {},
   "outputs": [
    {
     "name": "stdout",
     "output_type": "stream",
     "text": [
      "[1, 2]\n",
      "[1, 2]\n"
     ]
    }
   ],
   "source": [
    "class Solution:\n",
    "    # Bug atm will not bring back correct result if k/ roataion amount 'spins' the array more then once... \n",
    "\n",
    "    def __init__(self, nums):\n",
    "        self.nums = nums\n",
    "\n",
    "    def rotate(self, k):\n",
    "        emptyArr = []\n",
    "        lengthArr = len(self.nums)\n",
    "        \n",
    "        \n",
    "        for num in range(lengthArr):\n",
    "            if num+k < lengthArr:\n",
    "                emptyArr.insert(num+k,self.nums[num])\n",
    "            else:\n",
    "                adjusted = num+k-lengthArr\n",
    "                emptyArr.insert(adjusted,self.nums[num])\n",
    "        \n",
    "        for num2 in range(len(emptyArr)):\n",
    "            self.nums[num2] = emptyArr[num2]\n",
    "\n",
    "Answer = Solution([1,2])\n",
    "\n",
    "print(Answer.nums)\n",
    "Answer.rotate()\n",
    "print(Answer.nums)\n",
    "\n",
    "\n",
    "\n"
   ]
  },
  {
   "cell_type": "markdown",
   "metadata": {},
   "source": [
    "217. Contains Duplicate\n",
    "Easy\n",
    "\n",
    "6744\n",
    "\n",
    "1029\n",
    "\n",
    "Add to List\n",
    "\n",
    "Share\n",
    "Given an integer array nums, return true if any value appears at least twice in the array, and return false if every element is distinct.\n",
    "\n",
    " \n",
    "\n",
    "Example 1:\n",
    "\n",
    "Input: nums = [1,2,3,1]\n",
    "Output: true\n",
    "Example 2:\n",
    "\n",
    "Input: nums = [1,2,3,4]\n",
    "Output: false\n",
    "Example 3:\n",
    "\n",
    "Input: nums = [1,1,1,3,3,4,3,2,4,2]\n",
    "Output: true\n",
    " "
   ]
  },
  {
   "cell_type": "code",
   "execution_count": 67,
   "metadata": {},
   "outputs": [
    {
     "name": "stdout",
     "output_type": "stream",
     "text": [
      "False\n"
     ]
    }
   ],
   "source": [
    "def containsDuplicate(nums):\n",
    "    new = set(nums)\n",
    "    if len(nums) == len(new):\n",
    "        return False\n",
    "    else:\n",
    "        return True\n",
    "        \n",
    "\n",
    "print(containsDuplicate([1,2,3, 5, 7]))"
   ]
  },
  {
   "cell_type": "markdown",
   "metadata": {},
   "source": [
    "283. Move Zeroes\n",
    "Easy\n",
    "\n",
    "11211\n",
    "\n",
    "276\n",
    "\n",
    "Add to List\n",
    "\n",
    "Share\n",
    "Given an integer array nums, move all 0's to the end of it while maintaining the relative order of the non-zero elements.\n",
    "\n",
    "Note that you must do this in-place without making a copy of the array.\n",
    "\n",
    " \n",
    "\n",
    "Example 1:\n",
    "\n",
    "Input: nums = [0,1,0,3,12]\n",
    "Output: [1,3,12,0,0]\n",
    "Example 2:\n",
    "\n",
    "Input: nums = [0]\n",
    "Output: [0]\n",
    " "
   ]
  },
  {
   "cell_type": "code",
   "execution_count": 82,
   "metadata": {},
   "outputs": [
    {
     "data": {
      "text/plain": [
       "[1, 3, 12, 0, 0]"
      ]
     },
     "execution_count": 82,
     "metadata": {},
     "output_type": "execute_result"
    }
   ],
   "source": [
    "def moveZeroes(nums):\n",
    "    \"\"\"\n",
    "    Do not return anything, modify nums in-place instead.\n",
    "    \"\"\"\n",
    "    startLength = len(nums)\n",
    "    \n",
    "    if 0 in nums:\n",
    "        setNums = set(nums)\n",
    "        listNums = list(setNums)\n",
    "        listNums.remove(0)\n",
    "        addZeros = startLength - len(listNums)\n",
    "\n",
    "        for num in range(addZeros):\n",
    "            nums.remove(0)\n",
    "            nums.append(0)\n",
    "\n",
    "    return nums\n",
    "    \n",
    "\n",
    "moveZeroes([0,1,0,3,12])\n"
   ]
  },
  {
   "cell_type": "code",
   "execution_count": 84,
   "metadata": {},
   "outputs": [
    {
     "ename": "SyntaxError",
     "evalue": "'(' was never closed (807611309.py, line 1)",
     "output_type": "error",
     "traceback": [
      "\u001b[1;36m  Input \u001b[1;32mIn [84]\u001b[1;36m\u001b[0m\n\u001b[1;33m    list = (reversed(range(1,11))\u001b[0m\n\u001b[1;37m           ^\u001b[0m\n\u001b[1;31mSyntaxError\u001b[0m\u001b[1;31m:\u001b[0m '(' was never closed\n"
     ]
    }
   ],
   "source": [
    "list = (list(range(10,1,-1)))\n",
    "print(list)"
   ]
  }
 ],
 "metadata": {
  "interpreter": {
   "hash": "8ceefb00fc9828ed0e8c4a9e3226cf61255e40b12fb50ffc20effef320d57445"
  },
  "kernelspec": {
   "display_name": "Python 3.10.3 ('venv': venv)",
   "language": "python",
   "name": "python3"
  },
  "language_info": {
   "codemirror_mode": {
    "name": "ipython",
    "version": 3
   },
   "file_extension": ".py",
   "mimetype": "text/x-python",
   "name": "python",
   "nbconvert_exporter": "python",
   "pygments_lexer": "ipython3",
   "version": "3.10.3"
  },
  "orig_nbformat": 4
 },
 "nbformat": 4,
 "nbformat_minor": 2
}
